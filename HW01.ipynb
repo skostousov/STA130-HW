{
 "cells": [
  {
   "cell_type": "markdown",
   "id": "43669ebd-1188-4265-9fd4-f352d0c3eb43",
   "metadata": {},
   "source": [
    "Prelecture HW"
   ]
  },
  {
   "cell_type": "markdown",
   "id": "5009dc63-7758-4d25-8a87-69ff8d4eecbf",
   "metadata": {},
   "source": [
    "# 1."
   ]
  },
  {
   "cell_type": "code",
   "execution_count": 43,
   "id": "6b4cbf63-79a8-458e-9936-3b99864015c5",
   "metadata": {},
   "outputs": [
    {
     "data": {
      "text/plain": [
       "row_n           0\n",
       "id              1\n",
       "name            0\n",
       "gender          0\n",
       "species         0\n",
       "birthday        0\n",
       "personality     0\n",
       "song           11\n",
       "phrase          0\n",
       "full_id         0\n",
       "url             0\n",
       "dtype: int64"
      ]
     },
     "execution_count": 43,
     "metadata": {},
     "output_type": "execute_result"
    }
   ],
   "source": [
    "import pandas as pd\n",
    "url = \"https://raw.githubusercontent.com/rfordatascience/tidytuesday/master/data/2020/2020-05-05/villagers.csv\"\n",
    "df = pd.read_csv(url)\n",
    "df.isna().sum()"
   ]
  },
  {
   "cell_type": "code",
   "execution_count": 44,
   "id": "1579b3c8-3436-4516-8090-3eebc6fd016a",
   "metadata": {},
   "outputs": [
    {
     "data": {
      "text/html": [
       "<div>\n",
       "<style scoped>\n",
       "    .dataframe tbody tr th:only-of-type {\n",
       "        vertical-align: middle;\n",
       "    }\n",
       "\n",
       "    .dataframe tbody tr th {\n",
       "        vertical-align: top;\n",
       "    }\n",
       "\n",
       "    .dataframe thead th {\n",
       "        text-align: right;\n",
       "    }\n",
       "</style>\n",
       "<table border=\"1\" class=\"dataframe\">\n",
       "  <thead>\n",
       "    <tr style=\"text-align: right;\">\n",
       "      <th></th>\n",
       "      <th>row_n</th>\n",
       "      <th>id</th>\n",
       "      <th>name</th>\n",
       "      <th>gender</th>\n",
       "      <th>species</th>\n",
       "      <th>birthday</th>\n",
       "      <th>personality</th>\n",
       "      <th>song</th>\n",
       "      <th>phrase</th>\n",
       "      <th>full_id</th>\n",
       "      <th>url</th>\n",
       "    </tr>\n",
       "  </thead>\n",
       "  <tbody>\n",
       "    <tr>\n",
       "      <th>0</th>\n",
       "      <td>2</td>\n",
       "      <td>admiral</td>\n",
       "      <td>Admiral</td>\n",
       "      <td>male</td>\n",
       "      <td>bird</td>\n",
       "      <td>1-27</td>\n",
       "      <td>cranky</td>\n",
       "      <td>Steep Hill</td>\n",
       "      <td>aye aye</td>\n",
       "      <td>villager-admiral</td>\n",
       "      <td>https://villagerdb.com/images/villagers/thumb/...</td>\n",
       "    </tr>\n",
       "    <tr>\n",
       "      <th>1</th>\n",
       "      <td>3</td>\n",
       "      <td>agent-s</td>\n",
       "      <td>Agent S</td>\n",
       "      <td>female</td>\n",
       "      <td>squirrel</td>\n",
       "      <td>7-2</td>\n",
       "      <td>peppy</td>\n",
       "      <td>DJ K.K.</td>\n",
       "      <td>sidekick</td>\n",
       "      <td>villager-agent-s</td>\n",
       "      <td>https://villagerdb.com/images/villagers/thumb/...</td>\n",
       "    </tr>\n",
       "    <tr>\n",
       "      <th>2</th>\n",
       "      <td>4</td>\n",
       "      <td>agnes</td>\n",
       "      <td>Agnes</td>\n",
       "      <td>female</td>\n",
       "      <td>pig</td>\n",
       "      <td>4-21</td>\n",
       "      <td>uchi</td>\n",
       "      <td>K.K. House</td>\n",
       "      <td>snuffle</td>\n",
       "      <td>villager-agnes</td>\n",
       "      <td>https://villagerdb.com/images/villagers/thumb/...</td>\n",
       "    </tr>\n",
       "    <tr>\n",
       "      <th>3</th>\n",
       "      <td>6</td>\n",
       "      <td>al</td>\n",
       "      <td>Al</td>\n",
       "      <td>male</td>\n",
       "      <td>gorilla</td>\n",
       "      <td>10-18</td>\n",
       "      <td>lazy</td>\n",
       "      <td>Steep Hill</td>\n",
       "      <td>Ayyeeee</td>\n",
       "      <td>villager-al</td>\n",
       "      <td>https://villagerdb.com/images/villagers/thumb/...</td>\n",
       "    </tr>\n",
       "    <tr>\n",
       "      <th>4</th>\n",
       "      <td>7</td>\n",
       "      <td>alfonso</td>\n",
       "      <td>Alfonso</td>\n",
       "      <td>male</td>\n",
       "      <td>alligator</td>\n",
       "      <td>6-9</td>\n",
       "      <td>lazy</td>\n",
       "      <td>Forest Life</td>\n",
       "      <td>it'sa me</td>\n",
       "      <td>villager-alfonso</td>\n",
       "      <td>https://villagerdb.com/images/villagers/thumb/...</td>\n",
       "    </tr>\n",
       "  </tbody>\n",
       "</table>\n",
       "</div>"
      ],
      "text/plain": [
       "   row_n       id     name  gender    species birthday personality  \\\n",
       "0      2  admiral  Admiral    male       bird     1-27      cranky   \n",
       "1      3  agent-s  Agent S  female   squirrel      7-2       peppy   \n",
       "2      4    agnes    Agnes  female        pig     4-21        uchi   \n",
       "3      6       al       Al    male    gorilla    10-18        lazy   \n",
       "4      7  alfonso  Alfonso    male  alligator      6-9        lazy   \n",
       "\n",
       "          song    phrase           full_id  \\\n",
       "0   Steep Hill   aye aye  villager-admiral   \n",
       "1      DJ K.K.  sidekick  villager-agent-s   \n",
       "2   K.K. House   snuffle    villager-agnes   \n",
       "3   Steep Hill   Ayyeeee       villager-al   \n",
       "4  Forest Life  it'sa me  villager-alfonso   \n",
       "\n",
       "                                                 url  \n",
       "0  https://villagerdb.com/images/villagers/thumb/...  \n",
       "1  https://villagerdb.com/images/villagers/thumb/...  \n",
       "2  https://villagerdb.com/images/villagers/thumb/...  \n",
       "3  https://villagerdb.com/images/villagers/thumb/...  \n",
       "4  https://villagerdb.com/images/villagers/thumb/...  "
      ]
     },
     "execution_count": 44,
     "metadata": {},
     "output_type": "execute_result"
    }
   ],
   "source": [
    "df.head()"
   ]
  },
  {
   "cell_type": "markdown",
   "id": "4b8274d9-1fd9-4655-baae-29485df62f79",
   "metadata": {},
   "source": [
    "# 2."
   ]
  },
  {
   "cell_type": "code",
   "execution_count": 45,
   "id": "99e2b91d-b258-4fc3-88c5-59f02678e289",
   "metadata": {},
   "outputs": [
    {
     "name": "stdout",
     "output_type": "stream",
     "text": [
      "The number of rows in the villagers dataset is 391 and the amount of columns is 11\n"
     ]
    }
   ],
   "source": [
    "rows = df.shape[0]\n",
    "columns = df.shape[1]\n",
    "print(f\"The number of rows in the villagers dataset is {rows} and the amount of columns is {columns}\")"
   ]
  },
  {
   "cell_type": "markdown",
   "id": "2c291e11-b743-4195-bdde-34c2e23fc2f3",
   "metadata": {},
   "source": [
    "## Definition of Observations: \n",
    "### A data point corresponding to one instance in a dataset.\n",
    "\n",
    "## Definition of Variables: \n",
    "### Characteristics or attributes of a data point containing the data which to be analyzed (i.e. the data/information about the observation)."
   ]
  },
  {
   "cell_type": "markdown",
   "id": "e27fc555-af68-48e4-ac66-478987af8955",
   "metadata": {},
   "source": [
    "# 3. "
   ]
  },
  {
   "cell_type": "code",
   "execution_count": 46,
   "id": "b92824a6",
   "metadata": {},
   "outputs": [
    {
     "data": {
      "text/html": [
       "<div>\n",
       "<style scoped>\n",
       "    .dataframe tbody tr th:only-of-type {\n",
       "        vertical-align: middle;\n",
       "    }\n",
       "\n",
       "    .dataframe tbody tr th {\n",
       "        vertical-align: top;\n",
       "    }\n",
       "\n",
       "    .dataframe thead th {\n",
       "        text-align: right;\n",
       "    }\n",
       "</style>\n",
       "<table border=\"1\" class=\"dataframe\">\n",
       "  <thead>\n",
       "    <tr style=\"text-align: right;\">\n",
       "      <th></th>\n",
       "      <th>row_n</th>\n",
       "      <th>id</th>\n",
       "      <th>name</th>\n",
       "      <th>gender</th>\n",
       "      <th>species</th>\n",
       "      <th>birthday</th>\n",
       "      <th>personality</th>\n",
       "      <th>song</th>\n",
       "      <th>phrase</th>\n",
       "      <th>full_id</th>\n",
       "      <th>url</th>\n",
       "    </tr>\n",
       "  </thead>\n",
       "  <tbody>\n",
       "    <tr>\n",
       "      <th>0</th>\n",
       "      <td>2</td>\n",
       "      <td>admiral</td>\n",
       "      <td>Admiral</td>\n",
       "      <td>male</td>\n",
       "      <td>bird</td>\n",
       "      <td>1-27</td>\n",
       "      <td>cranky</td>\n",
       "      <td>Steep Hill</td>\n",
       "      <td>aye aye</td>\n",
       "      <td>villager-admiral</td>\n",
       "      <td>https://villagerdb.com/images/villagers/thumb/...</td>\n",
       "    </tr>\n",
       "    <tr>\n",
       "      <th>1</th>\n",
       "      <td>3</td>\n",
       "      <td>agent-s</td>\n",
       "      <td>Agent S</td>\n",
       "      <td>female</td>\n",
       "      <td>squirrel</td>\n",
       "      <td>7-2</td>\n",
       "      <td>peppy</td>\n",
       "      <td>DJ K.K.</td>\n",
       "      <td>sidekick</td>\n",
       "      <td>villager-agent-s</td>\n",
       "      <td>https://villagerdb.com/images/villagers/thumb/...</td>\n",
       "    </tr>\n",
       "    <tr>\n",
       "      <th>2</th>\n",
       "      <td>4</td>\n",
       "      <td>agnes</td>\n",
       "      <td>Agnes</td>\n",
       "      <td>female</td>\n",
       "      <td>pig</td>\n",
       "      <td>4-21</td>\n",
       "      <td>uchi</td>\n",
       "      <td>K.K. House</td>\n",
       "      <td>snuffle</td>\n",
       "      <td>villager-agnes</td>\n",
       "      <td>https://villagerdb.com/images/villagers/thumb/...</td>\n",
       "    </tr>\n",
       "    <tr>\n",
       "      <th>3</th>\n",
       "      <td>6</td>\n",
       "      <td>al</td>\n",
       "      <td>Al</td>\n",
       "      <td>male</td>\n",
       "      <td>gorilla</td>\n",
       "      <td>10-18</td>\n",
       "      <td>lazy</td>\n",
       "      <td>Steep Hill</td>\n",
       "      <td>Ayyeeee</td>\n",
       "      <td>villager-al</td>\n",
       "      <td>https://villagerdb.com/images/villagers/thumb/...</td>\n",
       "    </tr>\n",
       "    <tr>\n",
       "      <th>4</th>\n",
       "      <td>7</td>\n",
       "      <td>alfonso</td>\n",
       "      <td>Alfonso</td>\n",
       "      <td>male</td>\n",
       "      <td>alligator</td>\n",
       "      <td>6-9</td>\n",
       "      <td>lazy</td>\n",
       "      <td>Forest Life</td>\n",
       "      <td>it'sa me</td>\n",
       "      <td>villager-alfonso</td>\n",
       "      <td>https://villagerdb.com/images/villagers/thumb/...</td>\n",
       "    </tr>\n",
       "  </tbody>\n",
       "</table>\n",
       "</div>"
      ],
      "text/plain": [
       "   row_n       id     name  gender    species birthday personality  \\\n",
       "0      2  admiral  Admiral    male       bird     1-27      cranky   \n",
       "1      3  agent-s  Agent S  female   squirrel      7-2       peppy   \n",
       "2      4    agnes    Agnes  female        pig     4-21        uchi   \n",
       "3      6       al       Al    male    gorilla    10-18        lazy   \n",
       "4      7  alfonso  Alfonso    male  alligator      6-9        lazy   \n",
       "\n",
       "          song    phrase           full_id  \\\n",
       "0   Steep Hill   aye aye  villager-admiral   \n",
       "1      DJ K.K.  sidekick  villager-agent-s   \n",
       "2   K.K. House   snuffle    villager-agnes   \n",
       "3   Steep Hill   Ayyeeee       villager-al   \n",
       "4  Forest Life  it'sa me  villager-alfonso   \n",
       "\n",
       "                                                 url  \n",
       "0  https://villagerdb.com/images/villagers/thumb/...  \n",
       "1  https://villagerdb.com/images/villagers/thumb/...  \n",
       "2  https://villagerdb.com/images/villagers/thumb/...  \n",
       "3  https://villagerdb.com/images/villagers/thumb/...  \n",
       "4  https://villagerdb.com/images/villagers/thumb/...  "
      ]
     },
     "execution_count": 46,
     "metadata": {},
     "output_type": "execute_result"
    }
   ],
   "source": [
    "df.head()"
   ]
  },
  {
   "cell_type": "code",
   "execution_count": 47,
   "id": "b8fd1962-a1bf-4354-af0e-ace4e1641ce0",
   "metadata": {},
   "outputs": [
    {
     "data": {
      "text/html": [
       "<div>\n",
       "<style scoped>\n",
       "    .dataframe tbody tr th:only-of-type {\n",
       "        vertical-align: middle;\n",
       "    }\n",
       "\n",
       "    .dataframe tbody tr th {\n",
       "        vertical-align: top;\n",
       "    }\n",
       "\n",
       "    .dataframe thead th {\n",
       "        text-align: right;\n",
       "    }\n",
       "</style>\n",
       "<table border=\"1\" class=\"dataframe\">\n",
       "  <thead>\n",
       "    <tr style=\"text-align: right;\">\n",
       "      <th></th>\n",
       "      <th>row_n</th>\n",
       "    </tr>\n",
       "  </thead>\n",
       "  <tbody>\n",
       "    <tr>\n",
       "      <th>count</th>\n",
       "      <td>391.000000</td>\n",
       "    </tr>\n",
       "    <tr>\n",
       "      <th>mean</th>\n",
       "      <td>239.902813</td>\n",
       "    </tr>\n",
       "    <tr>\n",
       "      <th>std</th>\n",
       "      <td>140.702672</td>\n",
       "    </tr>\n",
       "    <tr>\n",
       "      <th>min</th>\n",
       "      <td>2.000000</td>\n",
       "    </tr>\n",
       "    <tr>\n",
       "      <th>25%</th>\n",
       "      <td>117.500000</td>\n",
       "    </tr>\n",
       "    <tr>\n",
       "      <th>50%</th>\n",
       "      <td>240.000000</td>\n",
       "    </tr>\n",
       "    <tr>\n",
       "      <th>75%</th>\n",
       "      <td>363.500000</td>\n",
       "    </tr>\n",
       "    <tr>\n",
       "      <th>max</th>\n",
       "      <td>483.000000</td>\n",
       "    </tr>\n",
       "  </tbody>\n",
       "</table>\n",
       "</div>"
      ],
      "text/plain": [
       "            row_n\n",
       "count  391.000000\n",
       "mean   239.902813\n",
       "std    140.702672\n",
       "min      2.000000\n",
       "25%    117.500000\n",
       "50%    240.000000\n",
       "75%    363.500000\n",
       "max    483.000000"
      ]
     },
     "execution_count": 47,
     "metadata": {},
     "output_type": "execute_result"
    }
   ],
   "source": [
    "df.describe()"
   ]
  },
  {
   "cell_type": "code",
   "execution_count": 48,
   "id": "41b0f1de",
   "metadata": {},
   "outputs": [
    {
     "name": "stdout",
     "output_type": "stream",
     "text": [
      "Index(['row_n', 'id', 'name', 'gender', 'species', 'birthday', 'personality',\n",
      "       'song', 'phrase', 'full_id', 'url'],\n",
      "      dtype='object')\n"
     ]
    }
   ],
   "source": [
    "print(df.columns)\n",
    "    "
   ]
  },
  {
   "cell_type": "code",
   "execution_count": 49,
   "id": "902ded43",
   "metadata": {},
   "outputs": [
    {
     "data": {
      "text/plain": [
       "gender\n",
       "male      204\n",
       "female    187\n",
       "Name: count, dtype: int64"
      ]
     },
     "execution_count": 49,
     "metadata": {},
     "output_type": "execute_result"
    }
   ],
   "source": [
    "df[\"gender\"].value_counts()"
   ]
  },
  {
   "cell_type": "code",
   "execution_count": 50,
   "id": "1244ce42",
   "metadata": {},
   "outputs": [
    {
     "name": "stdout",
     "output_type": "stream",
     "text": [
      "Column: row_n\n",
      "row_n\n",
      "2      1\n",
      "117    1\n",
      "4      1\n",
      "6      1\n",
      "7      1\n",
      "      ..\n",
      "475    1\n",
      "477    1\n",
      "480    1\n",
      "481    1\n",
      "483    1\n",
      "Name: count, Length: 391, dtype: int64\n",
      "\n",
      "\n",
      "Column: id\n",
      "id\n",
      "admiral     1\n",
      "cranston    1\n",
      "agnes       1\n",
      "al          1\n",
      "alfonso     1\n",
      "           ..\n",
      "winnie      1\n",
      "wolfgang    1\n",
      "yuka        1\n",
      "zell        1\n",
      "zucker      1\n",
      "Name: count, Length: 391, dtype: int64\n",
      "\n",
      "\n",
      "Column: name\n",
      "name\n",
      "Admiral     1\n",
      "Cranston    1\n",
      "Agnes       1\n",
      "Al          1\n",
      "Alfonso     1\n",
      "           ..\n",
      "Winnie      1\n",
      "Wolfgang    1\n",
      "Yuka        1\n",
      "Zell        1\n",
      "Zucker      1\n",
      "Name: count, Length: 391, dtype: int64\n",
      "\n",
      "\n",
      "Column: gender\n",
      "gender\n",
      "male      204\n",
      "female    187\n",
      "Name: count, dtype: int64\n",
      "\n",
      "\n",
      "Column: species\n",
      "species\n",
      "cat          23\n",
      "rabbit       20\n",
      "frog         18\n",
      "squirrel     18\n",
      "duck         17\n",
      "dog          16\n",
      "cub          16\n",
      "pig          15\n",
      "bear         15\n",
      "mouse        15\n",
      "horse        15\n",
      "bird         13\n",
      "penguin      13\n",
      "sheep        13\n",
      "elephant     11\n",
      "wolf         11\n",
      "deer         10\n",
      "ostrich      10\n",
      "gorilla       9\n",
      "chicken       9\n",
      "koala         9\n",
      "eagle         9\n",
      "goat          8\n",
      "hamster       8\n",
      "kangaroo      8\n",
      "monkey        8\n",
      "alligator     7\n",
      "lion          7\n",
      "anteater      7\n",
      "tiger         7\n",
      "hippo         7\n",
      "bull          6\n",
      "rhino         6\n",
      "cow           4\n",
      "octopus       3\n",
      "Name: count, dtype: int64\n",
      "\n",
      "\n",
      "Column: birthday\n",
      "birthday\n",
      "1-27    2\n",
      "12-1    2\n",
      "12-5    2\n",
      "9-20    2\n",
      "8-14    2\n",
      "       ..\n",
      "4-24    1\n",
      "8-21    1\n",
      "8-15    1\n",
      "9-17    1\n",
      "3-8     1\n",
      "Name: count, Length: 361, dtype: int64\n",
      "\n",
      "\n",
      "Column: personality\n",
      "personality\n",
      "lazy      60\n",
      "normal    59\n",
      "cranky    55\n",
      "snooty    55\n",
      "jock      55\n",
      "peppy     49\n",
      "smug      34\n",
      "uchi      24\n",
      "Name: count, dtype: int64\n",
      "\n",
      "\n",
      "Column: song\n",
      "song\n",
      "NaN             11\n",
      "K.K. Country    10\n",
      "Forest Life      9\n",
      "K.K. Ragtime     7\n",
      "K.K. Soul        7\n",
      "                ..\n",
      "K.K. Oasis       2\n",
      "Drivin'          1\n",
      "Senor K.K.       1\n",
      "K.K.  Bazaar     1\n",
      "K.K. D&B         1\n",
      "Name: count, Length: 93, dtype: int64\n",
      "\n",
      "\n",
      "Column: phrase\n",
      "phrase\n",
      "wee one      2\n",
      "bloop        2\n",
      "quacko       2\n",
      "unh-hunh     1\n",
      "chow down    1\n",
      "            ..\n",
      "snarrrl      1\n",
      "tsk tsk      1\n",
      "wuh          1\n",
      "twinkles     1\n",
      "pronk        1\n",
      "Name: count, Length: 388, dtype: int64\n",
      "\n",
      "\n",
      "Column: full_id\n",
      "full_id\n",
      "villager-admiral     1\n",
      "villager-cranston    1\n",
      "villager-agnes       1\n",
      "villager-al          1\n",
      "villager-alfonso     1\n",
      "                    ..\n",
      "villager-winnie      1\n",
      "villager-wolfgang    1\n",
      "villager-yuka        1\n",
      "villager-zell        1\n",
      "villager-zucker      1\n",
      "Name: count, Length: 391, dtype: int64\n",
      "\n",
      "\n",
      "Column: url\n",
      "url\n",
      "https://villagerdb.com/images/villagers/thumb/admiral.98206ee.png     1\n",
      "https://villagerdb.com/images/villagers/thumb/cranston.6bc9c9d.png    1\n",
      "https://villagerdb.com/images/villagers/thumb/agnes.9f51f32.png       1\n",
      "https://villagerdb.com/images/villagers/thumb/al.1e17090.png          1\n",
      "https://villagerdb.com/images/villagers/thumb/alfonso.11327a1.png     1\n",
      "                                                                     ..\n",
      "https://villagerdb.com/images/villagers/thumb/winnie.46fdea3.png      1\n",
      "https://villagerdb.com/images/villagers/thumb/wolfgang.8804196.png    1\n",
      "https://villagerdb.com/images/villagers/thumb/yuka.0c43bf0.png        1\n",
      "https://villagerdb.com/images/villagers/thumb/zell.c7c193c.png        1\n",
      "https://villagerdb.com/images/villagers/thumb/zucker.8dbb719.png      1\n",
      "Name: count, Length: 391, dtype: int64\n",
      "\n",
      "\n"
     ]
    }
   ],
   "source": [
    "for column_name in df.columns:\n",
    "    print(\"Column:\", column_name)\n",
    "    print(df[column_name].value_counts(dropna=False).sort_values(ascending=False))\n",
    "    print(\"\\n\")"
   ]
  },
  {
   "cell_type": "code",
   "execution_count": 51,
   "id": "ee975a87",
   "metadata": {},
   "outputs": [
    {
     "data": {
      "text/plain": [
       "species\n",
       "cat          23\n",
       "rabbit       20\n",
       "frog         18\n",
       "squirrel     18\n",
       "duck         17\n",
       "dog          16\n",
       "cub          16\n",
       "pig          15\n",
       "bear         15\n",
       "mouse        15\n",
       "horse        15\n",
       "bird         13\n",
       "penguin      13\n",
       "sheep        13\n",
       "elephant     11\n",
       "wolf         11\n",
       "ostrich      10\n",
       "deer         10\n",
       "eagle         9\n",
       "gorilla       9\n",
       "chicken       9\n",
       "koala         9\n",
       "goat          8\n",
       "hamster       8\n",
       "kangaroo      8\n",
       "monkey        8\n",
       "anteater      7\n",
       "hippo         7\n",
       "tiger         7\n",
       "alligator     7\n",
       "lion          7\n",
       "bull          6\n",
       "rhino         6\n",
       "cow           4\n",
       "octopus       3\n",
       "Name: count, dtype: int64"
      ]
     },
     "execution_count": 51,
     "metadata": {},
     "output_type": "execute_result"
    }
   ],
   "source": [
    "df[\"species\"].value_counts()"
   ]
  },
  {
   "cell_type": "code",
   "execution_count": 52,
   "id": "a9a65056-403a-4719-96a6-ceb6ed135aef",
   "metadata": {},
   "outputs": [
    {
     "name": "stdout",
     "output_type": "stream",
     "text": [
      "\n",
      "\n",
      "male\n",
      "\n",
      "species\n",
      "frog         0.063725\n",
      "bird         0.044118\n",
      "bear         0.044118\n",
      "cat          0.044118\n",
      "dog          0.044118\n",
      "rabbit       0.039216\n",
      "horse        0.039216\n",
      "penguin      0.039216\n",
      "pig          0.039216\n",
      "cub          0.039216\n",
      "eagle        0.034314\n",
      "lion         0.034314\n",
      "duck         0.034314\n",
      "mouse        0.034314\n",
      "gorilla      0.034314\n",
      "wolf         0.029412\n",
      "bull         0.029412\n",
      "elephant     0.029412\n",
      "deer         0.029412\n",
      "squirrel     0.024510\n",
      "chicken      0.024510\n",
      "alligator    0.024510\n",
      "hamster      0.024510\n",
      "tiger        0.019608\n",
      "hippo        0.019608\n",
      "goat         0.019608\n",
      "monkey       0.019608\n",
      "koala        0.019608\n",
      "rhino        0.014706\n",
      "ostrich      0.014706\n",
      "sheep        0.014706\n",
      "anteater     0.014706\n",
      "octopus      0.009804\n",
      "kangaroo     0.009804\n",
      "Name: proportion, dtype: float64\n",
      "\n",
      "\n",
      "female\n",
      "\n"
     ]
    },
    {
     "data": {
      "text/plain": [
       "species\n",
       "cat          0.074866\n",
       "squirrel     0.069519\n",
       "rabbit       0.064171\n",
       "sheep        0.053476\n",
       "duck         0.053476\n",
       "cub          0.042781\n",
       "mouse        0.042781\n",
       "ostrich      0.037433\n",
       "pig          0.037433\n",
       "dog          0.037433\n",
       "horse        0.037433\n",
       "kangaroo     0.032086\n",
       "bear         0.032086\n",
       "koala        0.026738\n",
       "penguin      0.026738\n",
       "elephant     0.026738\n",
       "frog         0.026738\n",
       "wolf         0.026738\n",
       "deer         0.021390\n",
       "cow          0.021390\n",
       "bird         0.021390\n",
       "monkey       0.021390\n",
       "chicken      0.021390\n",
       "goat         0.021390\n",
       "anteater     0.021390\n",
       "hamster      0.016043\n",
       "rhino        0.016043\n",
       "hippo        0.016043\n",
       "tiger        0.016043\n",
       "alligator    0.010695\n",
       "eagle        0.010695\n",
       "gorilla      0.010695\n",
       "octopus      0.005348\n",
       "Name: proportion, dtype: float64"
      ]
     },
     "execution_count": 52,
     "metadata": {},
     "output_type": "execute_result"
    }
   ],
   "source": [
    "#check gender disparities in data\n",
    "print(\"\\n\\nmale\\n\")\n",
    "print(df[df[\"gender\"]==\"male\"][\"species\"].value_counts(normalize=True))\n",
    "print(\"\\n\\nfemale\\n\")\n",
    "df[df[\"gender\"]==\"female\"][\"species\"].value_counts(normalize=True)"
   ]
  },
  {
   "cell_type": "code",
   "execution_count": null,
   "id": "2ae8f351",
   "metadata": {},
   "outputs": [],
   "source": []
  },
  {
   "cell_type": "markdown",
   "id": "5f669ca0-1328-49bd-ba80-be7001b6857d",
   "metadata": {},
   "source": [
    "# 4."
   ]
  },
  {
   "cell_type": "code",
   "execution_count": 53,
   "id": "5c086728-483f-462d-84b8-a6635c385530",
   "metadata": {},
   "outputs": [
    {
     "data": {
      "text/plain": [
       "(891, 15)"
      ]
     },
     "execution_count": 53,
     "metadata": {},
     "output_type": "execute_result"
    }
   ],
   "source": [
    "df2 = pd.read_csv(\"https://raw.githubusercontent.com/mwaskom/seaborn-data/master/titanic.csv\")\n",
    "df2.shape"
   ]
  },
  {
   "cell_type": "code",
   "execution_count": 54,
   "id": "e7c16083",
   "metadata": {},
   "outputs": [
    {
     "name": "stdout",
     "output_type": "stream",
     "text": [
      "Columns: 15\n",
      "Columns: 15\n"
     ]
    },
    {
     "data": {
      "text/html": [
       "<div>\n",
       "<style scoped>\n",
       "    .dataframe tbody tr th:only-of-type {\n",
       "        vertical-align: middle;\n",
       "    }\n",
       "\n",
       "    .dataframe tbody tr th {\n",
       "        vertical-align: top;\n",
       "    }\n",
       "\n",
       "    .dataframe thead th {\n",
       "        text-align: right;\n",
       "    }\n",
       "</style>\n",
       "<table border=\"1\" class=\"dataframe\">\n",
       "  <thead>\n",
       "    <tr style=\"text-align: right;\">\n",
       "      <th></th>\n",
       "      <th>survived</th>\n",
       "      <th>pclass</th>\n",
       "      <th>sex</th>\n",
       "      <th>age</th>\n",
       "      <th>sibsp</th>\n",
       "      <th>parch</th>\n",
       "      <th>fare</th>\n",
       "      <th>embarked</th>\n",
       "      <th>class</th>\n",
       "      <th>who</th>\n",
       "      <th>adult_male</th>\n",
       "      <th>deck</th>\n",
       "      <th>embark_town</th>\n",
       "      <th>alive</th>\n",
       "      <th>alone</th>\n",
       "    </tr>\n",
       "  </thead>\n",
       "  <tbody>\n",
       "    <tr>\n",
       "      <th>0</th>\n",
       "      <td>0</td>\n",
       "      <td>3</td>\n",
       "      <td>male</td>\n",
       "      <td>22.0</td>\n",
       "      <td>1</td>\n",
       "      <td>0</td>\n",
       "      <td>7.2500</td>\n",
       "      <td>S</td>\n",
       "      <td>Third</td>\n",
       "      <td>man</td>\n",
       "      <td>True</td>\n",
       "      <td>NaN</td>\n",
       "      <td>Southampton</td>\n",
       "      <td>no</td>\n",
       "      <td>False</td>\n",
       "    </tr>\n",
       "    <tr>\n",
       "      <th>1</th>\n",
       "      <td>1</td>\n",
       "      <td>1</td>\n",
       "      <td>female</td>\n",
       "      <td>38.0</td>\n",
       "      <td>1</td>\n",
       "      <td>0</td>\n",
       "      <td>71.2833</td>\n",
       "      <td>C</td>\n",
       "      <td>First</td>\n",
       "      <td>woman</td>\n",
       "      <td>False</td>\n",
       "      <td>C</td>\n",
       "      <td>Cherbourg</td>\n",
       "      <td>yes</td>\n",
       "      <td>False</td>\n",
       "    </tr>\n",
       "    <tr>\n",
       "      <th>2</th>\n",
       "      <td>1</td>\n",
       "      <td>3</td>\n",
       "      <td>female</td>\n",
       "      <td>26.0</td>\n",
       "      <td>0</td>\n",
       "      <td>0</td>\n",
       "      <td>7.9250</td>\n",
       "      <td>S</td>\n",
       "      <td>Third</td>\n",
       "      <td>woman</td>\n",
       "      <td>False</td>\n",
       "      <td>NaN</td>\n",
       "      <td>Southampton</td>\n",
       "      <td>yes</td>\n",
       "      <td>True</td>\n",
       "    </tr>\n",
       "    <tr>\n",
       "      <th>3</th>\n",
       "      <td>1</td>\n",
       "      <td>1</td>\n",
       "      <td>female</td>\n",
       "      <td>35.0</td>\n",
       "      <td>1</td>\n",
       "      <td>0</td>\n",
       "      <td>53.1000</td>\n",
       "      <td>S</td>\n",
       "      <td>First</td>\n",
       "      <td>woman</td>\n",
       "      <td>False</td>\n",
       "      <td>C</td>\n",
       "      <td>Southampton</td>\n",
       "      <td>yes</td>\n",
       "      <td>False</td>\n",
       "    </tr>\n",
       "    <tr>\n",
       "      <th>4</th>\n",
       "      <td>0</td>\n",
       "      <td>3</td>\n",
       "      <td>male</td>\n",
       "      <td>35.0</td>\n",
       "      <td>0</td>\n",
       "      <td>0</td>\n",
       "      <td>8.0500</td>\n",
       "      <td>S</td>\n",
       "      <td>Third</td>\n",
       "      <td>man</td>\n",
       "      <td>True</td>\n",
       "      <td>NaN</td>\n",
       "      <td>Southampton</td>\n",
       "      <td>no</td>\n",
       "      <td>True</td>\n",
       "    </tr>\n",
       "  </tbody>\n",
       "</table>\n",
       "</div>"
      ],
      "text/plain": [
       "   survived  pclass     sex   age  sibsp  parch     fare embarked  class  \\\n",
       "0         0       3    male  22.0      1      0   7.2500        S  Third   \n",
       "1         1       1  female  38.0      1      0  71.2833        C  First   \n",
       "2         1       3  female  26.0      0      0   7.9250        S  Third   \n",
       "3         1       1  female  35.0      1      0  53.1000        S  First   \n",
       "4         0       3    male  35.0      0      0   8.0500        S  Third   \n",
       "\n",
       "     who  adult_male deck  embark_town alive  alone  \n",
       "0    man        True  NaN  Southampton    no  False  \n",
       "1  woman       False    C    Cherbourg   yes  False  \n",
       "2  woman       False  NaN  Southampton   yes   True  \n",
       "3  woman       False    C  Southampton   yes  False  \n",
       "4    man        True  NaN  Southampton    no   True  "
      ]
     },
     "execution_count": 54,
     "metadata": {},
     "output_type": "execute_result"
    }
   ],
   "source": [
    "print(f\"Columns: {len(df2.columns)}\")\n",
    "print(f\"Columns: {df2.shape[1]}\")\n",
    "df2.head()"
   ]
  },
  {
   "cell_type": "code",
   "execution_count": 55,
   "id": "76a771ef-78de-4328-9327-63ea83220196",
   "metadata": {},
   "outputs": [
    {
     "name": "stdout",
     "output_type": "stream",
     "text": [
      "Columns: 6\n",
      "Columns: 6\n"
     ]
    },
    {
     "data": {
      "text/html": [
       "<div>\n",
       "<style scoped>\n",
       "    .dataframe tbody tr th:only-of-type {\n",
       "        vertical-align: middle;\n",
       "    }\n",
       "\n",
       "    .dataframe tbody tr th {\n",
       "        vertical-align: top;\n",
       "    }\n",
       "\n",
       "    .dataframe thead th {\n",
       "        text-align: right;\n",
       "    }\n",
       "</style>\n",
       "<table border=\"1\" class=\"dataframe\">\n",
       "  <thead>\n",
       "    <tr style=\"text-align: right;\">\n",
       "      <th></th>\n",
       "      <th>survived</th>\n",
       "      <th>pclass</th>\n",
       "      <th>age</th>\n",
       "      <th>sibsp</th>\n",
       "      <th>parch</th>\n",
       "      <th>fare</th>\n",
       "    </tr>\n",
       "  </thead>\n",
       "  <tbody>\n",
       "    <tr>\n",
       "      <th>count</th>\n",
       "      <td>891.000000</td>\n",
       "      <td>891.000000</td>\n",
       "      <td>714.000000</td>\n",
       "      <td>891.000000</td>\n",
       "      <td>891.000000</td>\n",
       "      <td>891.000000</td>\n",
       "    </tr>\n",
       "    <tr>\n",
       "      <th>mean</th>\n",
       "      <td>0.383838</td>\n",
       "      <td>2.308642</td>\n",
       "      <td>29.699118</td>\n",
       "      <td>0.523008</td>\n",
       "      <td>0.381594</td>\n",
       "      <td>32.204208</td>\n",
       "    </tr>\n",
       "    <tr>\n",
       "      <th>std</th>\n",
       "      <td>0.486592</td>\n",
       "      <td>0.836071</td>\n",
       "      <td>14.526497</td>\n",
       "      <td>1.102743</td>\n",
       "      <td>0.806057</td>\n",
       "      <td>49.693429</td>\n",
       "    </tr>\n",
       "    <tr>\n",
       "      <th>min</th>\n",
       "      <td>0.000000</td>\n",
       "      <td>1.000000</td>\n",
       "      <td>0.420000</td>\n",
       "      <td>0.000000</td>\n",
       "      <td>0.000000</td>\n",
       "      <td>0.000000</td>\n",
       "    </tr>\n",
       "    <tr>\n",
       "      <th>25%</th>\n",
       "      <td>0.000000</td>\n",
       "      <td>2.000000</td>\n",
       "      <td>20.125000</td>\n",
       "      <td>0.000000</td>\n",
       "      <td>0.000000</td>\n",
       "      <td>7.910400</td>\n",
       "    </tr>\n",
       "    <tr>\n",
       "      <th>50%</th>\n",
       "      <td>0.000000</td>\n",
       "      <td>3.000000</td>\n",
       "      <td>28.000000</td>\n",
       "      <td>0.000000</td>\n",
       "      <td>0.000000</td>\n",
       "      <td>14.454200</td>\n",
       "    </tr>\n",
       "    <tr>\n",
       "      <th>75%</th>\n",
       "      <td>1.000000</td>\n",
       "      <td>3.000000</td>\n",
       "      <td>38.000000</td>\n",
       "      <td>1.000000</td>\n",
       "      <td>0.000000</td>\n",
       "      <td>31.000000</td>\n",
       "    </tr>\n",
       "    <tr>\n",
       "      <th>max</th>\n",
       "      <td>1.000000</td>\n",
       "      <td>3.000000</td>\n",
       "      <td>80.000000</td>\n",
       "      <td>8.000000</td>\n",
       "      <td>6.000000</td>\n",
       "      <td>512.329200</td>\n",
       "    </tr>\n",
       "  </tbody>\n",
       "</table>\n",
       "</div>"
      ],
      "text/plain": [
       "         survived      pclass         age       sibsp       parch        fare\n",
       "count  891.000000  891.000000  714.000000  891.000000  891.000000  891.000000\n",
       "mean     0.383838    2.308642   29.699118    0.523008    0.381594   32.204208\n",
       "std      0.486592    0.836071   14.526497    1.102743    0.806057   49.693429\n",
       "min      0.000000    1.000000    0.420000    0.000000    0.000000    0.000000\n",
       "25%      0.000000    2.000000   20.125000    0.000000    0.000000    7.910400\n",
       "50%      0.000000    3.000000   28.000000    0.000000    0.000000   14.454200\n",
       "75%      1.000000    3.000000   38.000000    1.000000    0.000000   31.000000\n",
       "max      1.000000    3.000000   80.000000    8.000000    6.000000  512.329200"
      ]
     },
     "execution_count": 55,
     "metadata": {},
     "output_type": "execute_result"
    }
   ],
   "source": [
    "print(f\"Columns: {len(df2.describe().columns)}\")\n",
    "print(f\"Columns: {((df2.dtypes== 'int64')|(df2.dtypes=='float64')).sum()}\")\n",
    "df2.describe()"
   ]
  },
  {
   "cell_type": "code",
   "execution_count": 59,
   "id": "05d6bc9e",
   "metadata": {},
   "outputs": [
    {
     "data": {
      "text/plain": [
       "age\n",
       "NaN      177\n",
       "24.00     30\n",
       "22.00     27\n",
       "18.00     26\n",
       "28.00     25\n",
       "        ... \n",
       "36.50      1\n",
       "55.50      1\n",
       "0.92       1\n",
       "23.50      1\n",
       "74.00      1\n",
       "Name: count, Length: 89, dtype: int64"
      ]
     },
     "execution_count": 59,
     "metadata": {},
     "output_type": "execute_result"
    }
   ],
   "source": [
    "df2[\"age\"].value_counts(dropna=False)"
   ]
  },
  {
   "cell_type": "code",
   "execution_count": 60,
   "id": "22a6fed7",
   "metadata": {},
   "outputs": [
    {
     "name": "stdout",
     "output_type": "stream",
     "text": [
      "total rows: 891\n",
      "total observations: 891\n",
      "non-null observations: 714\n"
     ]
    }
   ],
   "source": [
    "print(f\"total rows: {df2.shape[0]}\")\n",
    "print(f\"total observations: {len(df2['age'])}\")\n",
    "print(f\"non-null observations: {len(df2[df2['age'].isna()==False])}\")"
   ]
  },
  {
   "cell_type": "code",
   "execution_count": 61,
   "id": "aa1e3f6d",
   "metadata": {},
   "outputs": [
    {
     "data": {
      "text/plain": [
       "survived         int64\n",
       "pclass           int64\n",
       "sex             object\n",
       "age            float64\n",
       "sibsp            int64\n",
       "parch            int64\n",
       "fare           float64\n",
       "embarked        object\n",
       "class           object\n",
       "who             object\n",
       "adult_male        bool\n",
       "deck            object\n",
       "embark_town     object\n",
       "alive           object\n",
       "alone             bool\n",
       "dtype: object"
      ]
     },
     "execution_count": 61,
     "metadata": {},
     "output_type": "execute_result"
    }
   ],
   "source": [
    "df2.dtypes"
   ]
  },
  {
   "cell_type": "markdown",
   "id": "ca5df71d",
   "metadata": {},
   "source": [
    "#### As seen from the above cells, there are a portion of columns which contain non integer or non float values and therefore the columns are not included in the column count for df2.describe() (which has 6 instead of 15). Columns such as 'age' have less than 891 values (the number of observations) due to the presence of 177 NaN entries (in the case of 'age'). This accounts for the discrepancy in the size of the dataset between that which is given by the describe method and shape attribute, as well as the discrepancy in the count of certain columns which from the describe method does not mirror the amount of observations as represented by the amount of rows in the shape attribute."
   ]
  },
  {
   "cell_type": "markdown",
   "id": "8b35dce5-b211-4c44-9ff7-9c3a9e80968c",
   "metadata": {},
   "source": [
    "# 5."
   ]
  },
  {
   "cell_type": "markdown",
   "id": "c930f3c2-91dd-497e-9cac-5b1a0d606939",
   "metadata": {},
   "source": [
    "## Definition of an Attribute: \n",
    "### An attribute is a piece of information about the object to which it is tied to. For example, df.shape stores a tuple which contains the dimensions of the dataset, or df.dtypes which returns a series storing the object type used for the attributes of each column.\n",
    "\n",
    "## Definition of a Method: \n",
    "### A method is a function tied to the object which when called, allows one to perform a certain action."
   ]
  },
  {
   "cell_type": "markdown",
   "id": "1340a23b",
   "metadata": {},
   "source": [
    "Post Lecture HW"
   ]
  },
  {
   "cell_type": "markdown",
   "id": "bab3512c-1e9f-4f16-be81-fbb412706613",
   "metadata": {},
   "source": [
    "# 6."
   ]
  },
  {
   "cell_type": "markdown",
   "id": "1ef49899",
   "metadata": {},
   "source": [
    "#### The df.describe method computes the properties 'count', 'mean', etc. for every integer or float-valued column. \n",
    "count: count provides the amount of observations or column values used in computing the other properties for that specific column.\n",
    "\n",
    "mean: mean computes the average value of the value in each observation for the given column\n",
    "\n",
    "min: min returns the smallest value that appears in the column across all observations\n",
    "\n",
    "std: the sample standard deviation represents the degree to which column values deviate from the norm. A too high std indicates the mean is not very representative of the full range of observation values for that column.\n",
    "\n",
    "50%: 50% represents the median value of all values in the column, i.e. the value such that 50% of observations have values above this median, and 50% percent have a value below.\n",
    "\n",
    "25%: In a similar fashion to 50%, 25% represents the value at which 25% of observations have values below the median, and 75% have values above the median\n",
    "\n",
    "75%: 75% represents the value at which 75% of observations have values below the median, and 25% have values above the median"
   ]
  },
  {
   "cell_type": "markdown",
   "id": "1d429127",
   "metadata": {},
   "source": [
    "# 7."
   ]
  },
  {
   "cell_type": "markdown",
   "id": "7887320c",
   "metadata": {},
   "source": [
    "##### 1. If the amount of observations that have non-null values in 'col' far exceeds the amount that do not, or the amount of observations with non-null values are independently statistically significant, df.dropna() would be preferred over del df['col']."
   ]
  },
  {
   "cell_type": "markdown",
   "id": "e63c18ce",
   "metadata": {},
   "source": [
    "##### 2. If the amount of non-null values in the column do not provide statistically significant results, it would probably be preferred to drop the column entirely and thus retain the other column values for every observation (this need is itsefl yet another reason)"
   ]
  },
  {
   "cell_type": "markdown",
   "id": "bf0a26f4",
   "metadata": {},
   "source": [
    " ##### 3. If df['col'] has an amount of null values so large that removing all observations with non-null values in that column would harm the statistical significance of the dataset, it is recommended to first use del df['col'] and thus retain a lot more information when applying df.dropna() (which will now only get rid of the occasional anomalous data points with other missing values)"
   ]
  },
  {
   "cell_type": "code",
   "execution_count": 62,
   "id": "29f9af15",
   "metadata": {},
   "outputs": [
    {
     "data": {
      "text/html": [
       "<div>\n",
       "<style scoped>\n",
       "    .dataframe tbody tr th:only-of-type {\n",
       "        vertical-align: middle;\n",
       "    }\n",
       "\n",
       "    .dataframe tbody tr th {\n",
       "        vertical-align: top;\n",
       "    }\n",
       "\n",
       "    .dataframe thead th {\n",
       "        text-align: right;\n",
       "    }\n",
       "</style>\n",
       "<table border=\"1\" class=\"dataframe\">\n",
       "  <thead>\n",
       "    <tr style=\"text-align: right;\">\n",
       "      <th></th>\n",
       "      <th>row_n</th>\n",
       "      <th>id</th>\n",
       "      <th>name</th>\n",
       "      <th>gender</th>\n",
       "      <th>species</th>\n",
       "      <th>birthday</th>\n",
       "      <th>personality</th>\n",
       "      <th>song</th>\n",
       "      <th>phrase</th>\n",
       "      <th>full_id</th>\n",
       "      <th>url</th>\n",
       "    </tr>\n",
       "  </thead>\n",
       "  <tbody>\n",
       "    <tr>\n",
       "      <th>0</th>\n",
       "      <td>2</td>\n",
       "      <td>admiral</td>\n",
       "      <td>Admiral</td>\n",
       "      <td>male</td>\n",
       "      <td>bird</td>\n",
       "      <td>1-27</td>\n",
       "      <td>cranky</td>\n",
       "      <td>Steep Hill</td>\n",
       "      <td>aye aye</td>\n",
       "      <td>villager-admiral</td>\n",
       "      <td>https://villagerdb.com/images/villagers/thumb/...</td>\n",
       "    </tr>\n",
       "    <tr>\n",
       "      <th>1</th>\n",
       "      <td>3</td>\n",
       "      <td>agent-s</td>\n",
       "      <td>Agent S</td>\n",
       "      <td>female</td>\n",
       "      <td>squirrel</td>\n",
       "      <td>7-2</td>\n",
       "      <td>peppy</td>\n",
       "      <td>DJ K.K.</td>\n",
       "      <td>sidekick</td>\n",
       "      <td>villager-agent-s</td>\n",
       "      <td>https://villagerdb.com/images/villagers/thumb/...</td>\n",
       "    </tr>\n",
       "    <tr>\n",
       "      <th>2</th>\n",
       "      <td>4</td>\n",
       "      <td>agnes</td>\n",
       "      <td>Agnes</td>\n",
       "      <td>female</td>\n",
       "      <td>pig</td>\n",
       "      <td>4-21</td>\n",
       "      <td>uchi</td>\n",
       "      <td>K.K. House</td>\n",
       "      <td>snuffle</td>\n",
       "      <td>villager-agnes</td>\n",
       "      <td>https://villagerdb.com/images/villagers/thumb/...</td>\n",
       "    </tr>\n",
       "    <tr>\n",
       "      <th>3</th>\n",
       "      <td>6</td>\n",
       "      <td>al</td>\n",
       "      <td>Al</td>\n",
       "      <td>male</td>\n",
       "      <td>gorilla</td>\n",
       "      <td>10-18</td>\n",
       "      <td>lazy</td>\n",
       "      <td>Steep Hill</td>\n",
       "      <td>Ayyeeee</td>\n",
       "      <td>villager-al</td>\n",
       "      <td>https://villagerdb.com/images/villagers/thumb/...</td>\n",
       "    </tr>\n",
       "    <tr>\n",
       "      <th>4</th>\n",
       "      <td>7</td>\n",
       "      <td>alfonso</td>\n",
       "      <td>Alfonso</td>\n",
       "      <td>male</td>\n",
       "      <td>alligator</td>\n",
       "      <td>6-9</td>\n",
       "      <td>lazy</td>\n",
       "      <td>Forest Life</td>\n",
       "      <td>it'sa me</td>\n",
       "      <td>villager-alfonso</td>\n",
       "      <td>https://villagerdb.com/images/villagers/thumb/...</td>\n",
       "    </tr>\n",
       "  </tbody>\n",
       "</table>\n",
       "</div>"
      ],
      "text/plain": [
       "   row_n       id     name  gender    species birthday personality  \\\n",
       "0      2  admiral  Admiral    male       bird     1-27      cranky   \n",
       "1      3  agent-s  Agent S  female   squirrel      7-2       peppy   \n",
       "2      4    agnes    Agnes  female        pig     4-21        uchi   \n",
       "3      6       al       Al    male    gorilla    10-18        lazy   \n",
       "4      7  alfonso  Alfonso    male  alligator      6-9        lazy   \n",
       "\n",
       "          song    phrase           full_id  \\\n",
       "0   Steep Hill   aye aye  villager-admiral   \n",
       "1      DJ K.K.  sidekick  villager-agent-s   \n",
       "2   K.K. House   snuffle    villager-agnes   \n",
       "3   Steep Hill   Ayyeeee       villager-al   \n",
       "4  Forest Life  it'sa me  villager-alfonso   \n",
       "\n",
       "                                                 url  \n",
       "0  https://villagerdb.com/images/villagers/thumb/...  \n",
       "1  https://villagerdb.com/images/villagers/thumb/...  \n",
       "2  https://villagerdb.com/images/villagers/thumb/...  \n",
       "3  https://villagerdb.com/images/villagers/thumb/...  \n",
       "4  https://villagerdb.com/images/villagers/thumb/...  "
      ]
     },
     "execution_count": 62,
     "metadata": {},
     "output_type": "execute_result"
    }
   ],
   "source": [
    "df.head()"
   ]
  },
  {
   "cell_type": "code",
   "execution_count": 64,
   "id": "a9fdaa77",
   "metadata": {},
   "outputs": [
    {
     "data": {
      "text/plain": [
       "row_n           0\n",
       "id              1\n",
       "name            0\n",
       "gender          0\n",
       "species         0\n",
       "birthday        0\n",
       "personality     0\n",
       "song           11\n",
       "phrase          0\n",
       "full_id         0\n",
       "url             0\n",
       "dtype: int64"
      ]
     },
     "execution_count": 64,
     "metadata": {},
     "output_type": "execute_result"
    }
   ],
   "source": [
    "df.isna().sum()"
   ]
  },
  {
   "cell_type": "code",
   "execution_count": 67,
   "id": "355d7d4d",
   "metadata": {},
   "outputs": [
    {
     "data": {
      "text/plain": [
       "id\n",
       "admiral    1\n",
       "muffy      1\n",
       "paula      1\n",
       "patty      1\n",
       "pate       1\n",
       "          ..\n",
       "elvis      1\n",
       "eloise     1\n",
       "elmer      1\n",
       "ellie      1\n",
       "zucker     1\n",
       "Name: count, Length: 391, dtype: int64"
      ]
     },
     "execution_count": 67,
     "metadata": {},
     "output_type": "execute_result"
    }
   ],
   "source": [
    "df['id'].value_counts(dropna=False)"
   ]
  },
  {
   "cell_type": "code",
   "execution_count": 68,
   "id": "95e3d461",
   "metadata": {},
   "outputs": [
    {
     "data": {
      "text/plain": [
       "song\n",
       "NaN             11\n",
       "K.K. Country    10\n",
       "Forest Life      9\n",
       "K.K. Lament      7\n",
       "K.K. Ragtime     7\n",
       "                ..\n",
       "Aloha K.K.       2\n",
       "Drivin'          1\n",
       "Senor K.K.       1\n",
       "K.K.  Bazaar     1\n",
       "K.K. D&B         1\n",
       "Name: count, Length: 93, dtype: int64"
      ]
     },
     "execution_count": 68,
     "metadata": {},
     "output_type": "execute_result"
    }
   ],
   "source": [
    "df[\"song\"].value_counts(dropna=False)"
   ]
  },
  {
   "cell_type": "code",
   "execution_count": 65,
   "id": "eb5eb6f6",
   "metadata": {},
   "outputs": [
    {
     "data": {
      "text/plain": [
       "(391, 11)"
      ]
     },
     "execution_count": 65,
     "metadata": {},
     "output_type": "execute_result"
    }
   ],
   "source": [
    "df.shape"
   ]
  },
  {
   "cell_type": "markdown",
   "id": "c23b3031",
   "metadata": {},
   "source": [
    "##### I shall first apply df.dropna() and get rid of the rows, as then I only lose 12 out of 391 observations. I will not remove the entire column if it contains missing values (as is the case in 'id' and 'song') because majority of the values are not null and therefore still useful."
   ]
  },
  {
   "cell_type": "code",
   "execution_count": 69,
   "id": "188f6558",
   "metadata": {},
   "outputs": [],
   "source": [
    "df.dropna(inplace=True)"
   ]
  },
  {
   "cell_type": "code",
   "execution_count": 70,
   "id": "afca0af1",
   "metadata": {},
   "outputs": [
    {
     "data": {
      "text/plain": [
       "id\n",
       "admiral     1\n",
       "olive       1\n",
       "patty       1\n",
       "pate        1\n",
       "pashmina    1\n",
       "           ..\n",
       "eloise      1\n",
       "elmer       1\n",
       "ellie       1\n",
       "elise       1\n",
       "zucker      1\n",
       "Name: count, Length: 379, dtype: int64"
      ]
     },
     "execution_count": 70,
     "metadata": {},
     "output_type": "execute_result"
    }
   ],
   "source": [
    "df['id'].value_counts(dropna=False)"
   ]
  },
  {
   "cell_type": "code",
   "execution_count": 71,
   "id": "db4c5794",
   "metadata": {},
   "outputs": [
    {
     "data": {
      "text/plain": [
       "song\n",
       "K.K. Country     10\n",
       "Forest Life       9\n",
       "K.K. Soul         7\n",
       "K.K. Ragtime      7\n",
       "K.K. Lullaby      7\n",
       "                 ..\n",
       "K.K. Marathon     2\n",
       "Drivin'           1\n",
       "Senor K.K.        1\n",
       "K.K.  Bazaar      1\n",
       "K.K. D&B          1\n",
       "Name: count, Length: 92, dtype: int64"
      ]
     },
     "execution_count": 71,
     "metadata": {},
     "output_type": "execute_result"
    }
   ],
   "source": [
    "df[\"song\"].value_counts(dropna=False)"
   ]
  },
  {
   "cell_type": "code",
   "execution_count": 72,
   "id": "e44ac086",
   "metadata": {},
   "outputs": [
    {
     "data": {
      "text/plain": [
       "(379, 11)"
      ]
     },
     "execution_count": 72,
     "metadata": {},
     "output_type": "execute_result"
    }
   ],
   "source": [
    "df.shape"
   ]
  },
  {
   "cell_type": "code",
   "execution_count": 73,
   "id": "755fe570",
   "metadata": {},
   "outputs": [
    {
     "data": {
      "text/plain": [
       "row_n          0\n",
       "id             0\n",
       "name           0\n",
       "gender         0\n",
       "species        0\n",
       "birthday       0\n",
       "personality    0\n",
       "song           0\n",
       "phrase         0\n",
       "full_id        0\n",
       "url            0\n",
       "dtype: int64"
      ]
     },
     "execution_count": 73,
     "metadata": {},
     "output_type": "execute_result"
    }
   ],
   "source": [
    "df.isna().sum()"
   ]
  },
  {
   "cell_type": "markdown",
   "id": "38f55a57",
   "metadata": {},
   "source": [
    "# 8."
   ]
  },
  {
   "cell_type": "markdown",
   "id": "0384f2de",
   "metadata": {},
   "source": [
    "#### 1. The cell below sorts all the titanic dataset observations (of people) into two groups based on their sex, and then seperately selects the survived column in each of them and computes all values returned in the describe method."
   ]
  },
  {
   "cell_type": "code",
   "execution_count": 77,
   "id": "3743c9f9",
   "metadata": {},
   "outputs": [
    {
     "data": {
      "text/html": [
       "<div>\n",
       "<style scoped>\n",
       "    .dataframe tbody tr th:only-of-type {\n",
       "        vertical-align: middle;\n",
       "    }\n",
       "\n",
       "    .dataframe tbody tr th {\n",
       "        vertical-align: top;\n",
       "    }\n",
       "\n",
       "    .dataframe thead th {\n",
       "        text-align: right;\n",
       "    }\n",
       "</style>\n",
       "<table border=\"1\" class=\"dataframe\">\n",
       "  <thead>\n",
       "    <tr style=\"text-align: right;\">\n",
       "      <th></th>\n",
       "      <th>count</th>\n",
       "      <th>mean</th>\n",
       "      <th>std</th>\n",
       "      <th>min</th>\n",
       "      <th>25%</th>\n",
       "      <th>50%</th>\n",
       "      <th>75%</th>\n",
       "      <th>max</th>\n",
       "    </tr>\n",
       "    <tr>\n",
       "      <th>sex</th>\n",
       "      <th></th>\n",
       "      <th></th>\n",
       "      <th></th>\n",
       "      <th></th>\n",
       "      <th></th>\n",
       "      <th></th>\n",
       "      <th></th>\n",
       "      <th></th>\n",
       "    </tr>\n",
       "  </thead>\n",
       "  <tbody>\n",
       "    <tr>\n",
       "      <th>female</th>\n",
       "      <td>314.0</td>\n",
       "      <td>0.742038</td>\n",
       "      <td>0.438211</td>\n",
       "      <td>0.0</td>\n",
       "      <td>0.0</td>\n",
       "      <td>1.0</td>\n",
       "      <td>1.0</td>\n",
       "      <td>1.0</td>\n",
       "    </tr>\n",
       "    <tr>\n",
       "      <th>male</th>\n",
       "      <td>577.0</td>\n",
       "      <td>0.188908</td>\n",
       "      <td>0.391775</td>\n",
       "      <td>0.0</td>\n",
       "      <td>0.0</td>\n",
       "      <td>0.0</td>\n",
       "      <td>0.0</td>\n",
       "      <td>1.0</td>\n",
       "    </tr>\n",
       "  </tbody>\n",
       "</table>\n",
       "</div>"
      ],
      "text/plain": [
       "        count      mean       std  min  25%  50%  75%  max\n",
       "sex                                                       \n",
       "female  314.0  0.742038  0.438211  0.0  0.0  1.0  1.0  1.0\n",
       "male    577.0  0.188908  0.391775  0.0  0.0  0.0  0.0  1.0"
      ]
     },
     "execution_count": 77,
     "metadata": {},
     "output_type": "execute_result"
    }
   ],
   "source": [
    "df2.groupby('sex')['survived'].describe()"
   ]
  },
  {
   "cell_type": "markdown",
   "id": "8d42e9be",
   "metadata": {},
   "source": [
    "#### 2. The combination of count and groupby can help detect biases in the datasampling due to skews in selection of datapoint representtetive of general cases. Count alone merely helps ascertain how many values of a given column are null (when the value is compared to the amount of rows)."
   ]
  },
  {
   "cell_type": "markdown",
   "id": "e7265de8",
   "metadata": {},
   "source": [
    "#### 3. For troubleshooting specific problems unique to my coding session, such as the ones in A-G, an AI is far more helpful than using a search engine for problem solving. Perhaps this lies in the very nature of Artificial Intelligence, which is meant to be able to work on data it was not neccessarily trained on, and the probability that you will find the exact same problem online is highly unlikley. More likely, you will end up spending a considerable amount of more time until you realize your own error, or until your stack overflow question is answered. Even if the EXACT same scenario IS present on a webpage, the chances that the search engine will provide you the right link is also low because formatting of code in a search engine can vary."
   ]
  },
  {
   "cell_type": "markdown",
   "id": "d9a5e2ed",
   "metadata": {},
   "source": [
    "# 9. "
   ]
  },
  {
   "cell_type": "markdown",
   "id": "d1b8a159",
   "metadata": {},
   "source": [
    "#### Mostly"
   ]
  },
  {
   "cell_type": "markdown",
   "id": "b493c405",
   "metadata": {},
   "source": [
    "# Log/Notes"
   ]
  },
  {
   "cell_type": "markdown",
   "id": "998d2b38",
   "metadata": {},
   "source": [
    "## Assignment includes information garnered from earlier experience and pandas documentation, as well as AI.\n",
    "\n",
    "### ChatGPT summarized log:\n",
    "    Here's a summary of our chat log:\n",
    "\n",
    "1. **2024-06-25 to 2024-09-09**: You have been working on various projects, including expanding image datasets, neural networks, machine learning, and financial tracking apps.\n",
    "2. **Current Focus**: You are working on the Titanic dataset for summary analysis.\n",
    "3. **Your Question**: You asked for an explanation of the code `df.groupby(\"col1\")[\"col2\"].describe()`.\n",
    "4. **Explanation**: I explained that the code groups the dataset by `col1`, selects `col2` within each group, and then provides descriptive statistics for `col2` in each group (e.g., count, mean, standard deviation, etc.).\n",
    "\n",
    "Let me know if you need more details!\n",
    "\n",
    "\n",
    "### NotebookLM summarized log:\n",
    "    ## Chat Log Summary: Exploring Data Manipulation and Statistics with Pandas\n",
    "\n",
    "Our conversation explored various data manipulation and statistical concepts using the pandas library in Python. The sources you provided, which include excerpts from course materials for STA130, offer a structured outline of topics and serve as a valuable reference for this summary.\n",
    "\n",
    "We started by addressing your query about counting species by gender. I suggested using the `df.groupby()` method with `value_counts()`, explaining how to group by 'gender' and count 'species' within those groups. This approach, while not explicitly mentioned in the sources, draws on the fundamental concepts of grouping and aggregation discussed in sources \\.\n",
    "\n",
    "Next, you asked about selecting rows where a specific column ('col1') equals 3. I provided the code `df_filtered = df[df['col1'] == 3]`, explaining the use of boolean indexing and filtering with a boolean mask. This response aligns with the concepts of subsetting via conditionals and boolean selection from sources \\. \n",
    "\n",
    "You then wanted to select a DataFrame with certain data types. I outlined a three-step process:\n",
    "\n",
    "1.  Identify the desired data types (e.g., `int64`, `float64`), referencing common pandas data types from source \\.\n",
    "2.  Create a boolean mask using comparison operators (`==`, `!=`) and logical operators (`&`, `|`), aligning with sources \\.\n",
    "3.  Apply the mask to the DataFrame to select columns, drawing on boolean indexing from sources \\.\n",
    "\n",
    "This response combines insights from various sources to provide a comprehensive approach to your query.\n",
    "\n",
    "We then moved on to troubleshooting a `TypeError` in your code snippet: `print(f\"Columns: {(df2.dtypes== ('int64'|'float64')).sum()}\")`. I identified the issue—attempting to use the logical operator \"or\" (`|`) with strings instead of booleans. The solution involved separating the data type comparisons and then using the logical \"or\" on the resulting boolean values. This debugging process emphasized the importance of understanding data types and operator behavior, as highlighted in sources \\.\n",
    "\n",
    "Finally, you requested a good definition of standard deviation. My response provided a clear explanation of **sample standard deviation**, emphasizing its role in measuring data spread and its calculation using `df['column'].std()` or the formula: \n",
    "\n",
    "$$s = \\sqrt{\\frac{1}{n-1} \\sum_{i=1}^{n} (x_i - \\bar{x})^2}$$\n",
    "\n",
    "This definition aligned with sources \\, which explain how to calculate and interpret standard deviation as a statistical measure. \n",
    "\n",
    "Throughout our conversation, we addressed specific coding questions, clarified the use of pandas functions and attributes, and reinforced key statistical concepts. By integrating information from your provided sources and our interaction history, this summary aims to deepen your understanding of data manipulation and analysis with pandas.\n"
   ]
  },
  {
   "cell_type": "code",
   "execution_count": null,
   "id": "48abb971",
   "metadata": {},
   "outputs": [],
   "source": []
  }
 ],
 "metadata": {
  "kernelspec": {
   "display_name": "Python 3 (ipykernel)",
   "language": "python",
   "name": "python3"
  },
  "language_info": {
   "codemirror_mode": {
    "name": "ipython",
    "version": 3
   },
   "file_extension": ".py",
   "mimetype": "text/x-python",
   "name": "python",
   "nbconvert_exporter": "python",
   "pygments_lexer": "ipython3",
   "version": "3.11.6"
  }
 },
 "nbformat": 4,
 "nbformat_minor": 5
}
