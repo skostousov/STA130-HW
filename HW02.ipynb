{
 "cells": [
  {
   "cell_type": "markdown",
   "metadata": {},
   "source": [
    "# Homework 02"
   ]
  },
  {
   "cell_type": "markdown",
   "metadata": {},
   "source": [
    "## Assignment includes information garnered from earlier experience and pandas documentation, as well as AI."
   ]
  },
  {
   "cell_type": "markdown",
   "metadata": {},
   "source": [
    "## 1-3."
   ]
  },
  {
   "cell_type": "markdown",
   "metadata": {},
   "source": [
    "\"Certainly! Here's a brief summary of our conversation:\n",
    "\n",
    "1. **Monte Hall Simulation Code:**\n",
    "   - **Initial Code Analysis:** Explained the detailed workings of the provided Monty Hall simulation code, including how it ensures Monty never opens the door with the car.\n",
    "   - **Simplified Version:** Provided a streamlined version of the Monty Hall simulation code that simplifies the process while maintaining accuracy.\n",
    "   - **Additional Simple Version:** Offered another straightforward implementation of the Monty Hall problem with concise and clear code.\n",
    "\n",
    "Feel free to ask if you need more details or further assistance!\" (https://chatgpt.com/share/66e48081-3760-8005-884b-142a702b58e6)"
   ]
  },
  {
   "cell_type": "markdown",
   "metadata": {},
   "source": [
    "### Personal shortened implementation"
   ]
  },
  {
   "cell_type": "code",
   "execution_count": 1,
   "metadata": {},
   "outputs": [
    {
     "name": "stdout",
     "output_type": "stream",
     "text": [
      "Won: 674\n",
      "Lost: 326\n",
      "Win ratio: 0.674\n"
     ]
    }
   ],
   "source": [
    "import random\n",
    "won = 0\n",
    "lost = 0\n",
    "for i in range(1000):\n",
    "    # Let 1 represent the goats and 0 represent the car\n",
    "    doors = [1, 1, 0]\n",
    "    # Shuffle the doors\n",
    "    random.shuffle(doors)\n",
    "    # The contestant makes a choice\n",
    "    choice = doors[0]\n",
    "    # The host opens the door with a goat (it is thus removed from the list of choices)\n",
    "    unopened_doors = doors[1:]\n",
    "    unopened_doors.remove(1)\n",
    "    # The contestant switches his choice to the remaining unopened door\n",
    "    choice = unopened_doors[0]\n",
    "    # Update the score based on the discovery of a goat or car when the door the contestant switched to is finally opened\n",
    "    if choice == 0:\n",
    "        won += 1\n",
    "    else:\n",
    "        lost += 1\n",
    "\n",
    "# Wins, losses, and ratio of wins to to total games outputed\n",
    "# Note: the more iterations, the closer the ratio approaches to 2/3\n",
    "print(f\"Won: {won}\" + \"\\n\" + f\"Lost: {lost}\" + \"\\n\" + f\"Win ratio: {won/(won+lost)}\")"
   ]
  },
  {
   "cell_type": "markdown",
   "metadata": {},
   "source": [
    "### ChatGPT Simplified version"
   ]
  },
  {
   "cell_type": "code",
   "execution_count": 2,
   "metadata": {},
   "outputs": [
    {
     "name": "stdout",
     "output_type": "stream",
     "text": [
      "Probability of winning by switching doors: 0.6667\n"
     ]
    }
   ],
   "source": [
    "import numpy as np\n",
    "\n",
    "def monty_hall_simulation_simple(reps=100000):\n",
    "    wins_by_switching = 0\n",
    "\n",
    "    for _ in range(reps):\n",
    "        # Randomly select the winning door and player's initial choice\n",
    "        winning_door = np.random.randint(1, 4)\n",
    "        player_choice = np.random.randint(1, 4)\n",
    "        \n",
    "        # Determine which door Monty will open (must be a losing door not chosen by the player)\n",
    "        possible_doors_to_open = [door for door in range(1, 4) if door != player_choice and door != winning_door]\n",
    "        monty_opens = np.random.choice(possible_doors_to_open)\n",
    "        \n",
    "        # Determine the door to switch to (the one Monty didn't open and isn't the initial choice)\n",
    "        switch_door = [door for door in range(1, 4) if door != player_choice and door != monty_opens][0]\n",
    "        \n",
    "        # Count as a win if the switched door is the winning door\n",
    "        if switch_door == winning_door:\n",
    "            wins_by_switching += 1\n",
    "\n",
    "    return wins_by_switching / reps\n",
    "\n",
    "# Run the simulation and print the result\n",
    "print(f\"Probability of winning by switching doors: {monty_hall_simulation_simple():.4f}\")\n"
   ]
  },
  {
   "cell_type": "markdown",
   "metadata": {},
   "source": [
    "## 4."
   ]
  },
  {
   "cell_type": "markdown",
   "metadata": {},
   "source": [
    "https://chatgpt.com/share/66e479e9-885c-8005-8e12-2d26ede4df4d (log included in 5.)"
   ]
  },
  {
   "cell_type": "markdown",
   "metadata": {},
   "source": [
    "## 5."
   ]
  },
  {
   "cell_type": "markdown",
   "metadata": {},
   "source": [
    "\"Certainly! Here’s an abridged summary of our conversation:\n",
    "\n",
    "---\n",
    "\n",
    "**User**: They shared code for a Markovian ChatBot and asked for a walkthrough.\n",
    "\n",
    "**ChatGPT**:\n",
    "- Explained how the code tracks word occurrences (`word_used`) and word pairs (`next_word`).\n",
    "- Detailed the purpose of `word_used` for counting individual word occurrences and `next_word` for recording frequencies of words following each other.\n",
    "\n",
    "**User**: They asked if their understanding of the code was correct.\n",
    "\n",
    "**ChatGPT**: Confirmed their understanding was mostly correct, with clarifications on:\n",
    "- How `word_used` tracks individual word frequencies.\n",
    "- How `next_word` records which words follow other words and their counts.\n",
    "- Noted that relative frequencies could be derived later.\n",
    "\n",
    "**User**: They shared an extension of the code and asked for an explanation.\n",
    "\n",
    "**ChatGPT**:\n",
    "- Described how the extension creates a **2nd-order Markov model**.\n",
    "- Explained new dictionaries (`word_used2` for word pairs and `next_word2` for third-word frequencies) and the loop’s role in tracking pairs and their subsequent words.\n",
    "- Provided an example of how the extension works.\n",
    "\n",
    "---\n",
    "\n",
    "If you need any more details or have additional questions, just let me know!\" (https://chatgpt.com/share/66e479e9-885c-8005-8e12-2d26ede4df4d)\n"
   ]
  },
  {
   "cell_type": "markdown",
   "metadata": {},
   "source": [
    "\n",
    "\"Here’s an abridged conversation log:\n",
    "\n",
    "1. **User**: Shares code for a Markovian Chatbot and asks for a walkthrough and its extension.\n",
    "2. **Assistant**: Explains the basic Markovian chatbot and its extension, focusing on word transitions and character context.\n",
    "3. **User**: Asks for a more in-depth explanation of the extension.\n",
    "4. **Assistant**: Provides a detailed breakdown of the extension, focusing on bigram modeling, character context, and how the chatbot generates more fluent and character-specific responses.\" (https://chatgpt.com/share/66e47d88-e638-8005-a617-b232397e6617)\n",
    "\n"
   ]
  },
  {
   "cell_type": "markdown",
   "metadata": {},
   "source": [
    "## 6."
   ]
  },
  {
   "cell_type": "markdown",
   "metadata": {},
   "source": [
    "##### My experience interacting with the chatbot on the modules above was overwelmingly posititve. ChatGPT walked me through each piece of code in a concise and straightfroward manner while still being able to encapsulate all the essentials. I returned from those virtual session with a greater clarity of both how the code worked as well as the underlying concepts. Via my expereicne with Chatbots and LLMs, I have realized that Chatbots seems to excel in areas involving code. In fact, I now rely on Github Copilot to code various projects and it does a very thorough and consistent job. One can perhaps say that coding is the task these LLMs are best at, perhaps due to the large swaths of open source code available for training."
   ]
  },
  {
   "cell_type": "markdown",
   "metadata": {},
   "source": [
    "## 7."
   ]
  },
  {
   "cell_type": "markdown",
   "metadata": {},
   "source": [
    "##### I have been pretty familiar with ChatGPTs usefulness when it comes to statistics and coding for a long time before this course, but I can say that my usage of these tools in the course has not impacted that image in a negative manner"
   ]
  },
  {
   "cell_type": "markdown",
   "metadata": {},
   "source": [
    "## 8."
   ]
  },
  {
   "cell_type": "markdown",
   "metadata": {},
   "source": [
    "\"\n",
    "### **Abridged Log of Our Conversation**\n",
    "\n",
    "1. **Importance of Skills for Data Scientists**:\n",
    "   - **Technical Skills**: Programming, statistical analysis, data manipulation, data visualization, and knowledge of big data technologies.\n",
    "   - **Analytical Skills**: Critical thinking and problem-solving.\n",
    "   - **Soft Skills**: Communication, collaboration, curiosity, and adaptability.\n",
    "   - **AI Tools**: While AI can automate tasks, programming remains essential for customization, understanding, and problem-solving.\n",
    "\n",
    "2. **Programming in Data Science**:\n",
    "   - Programming skills are crucial for customization, understanding complex systems, data manipulation, model development, and integration. Even as AI tools advance, coding is fundamental for creating tailored solutions and effective problem-solving.\n",
    "\n",
    "3. **Relevance of Specific Skills**:\n",
    "   - **Learning**: Keeps you updated with new tools and techniques.\n",
    "   - **Adaptability**: Essential for handling changing technologies and varied projects.\n",
    "   - **Communication**: Important for explaining findings and collaborating with teams.\n",
    "   - **Coding**: Fundamental for data manipulation, model development, and tool integration.\n",
    "   - **Data/Statistics**: Crucial for understanding, analyzing, and interpreting data accurately.\n",
    "\n",
    "4. **Mathematics for Data Scientists**:\n",
    "   - Mathematics is important for understanding algorithms, model development, and data analysis.\n",
    "   - **Strong Theoretical Exposure**: Provides deeper understanding, helps with advanced techniques, and enhances problem-solving skills.\n",
    "\n",
    "### **Summary**\n",
    "\n",
    "In today’s data science field, essential skills include programming, statistical analysis, data manipulation, and visualization, along with strong soft skills like communication and adaptability. Despite the advancements in AI tools, programming remains critical for customization and problem-solving. A theoretical mathematical background is also valuable for understanding algorithms and developing models, but practical application of these concepts is equally important. Balancing both theoretical and practical skills is key to success in data science. \" (https://chatgpt.com/share/66e483dc-c678-8005-b4e7-3da2b5a5c545)"
   ]
  },
  {
   "cell_type": "markdown",
   "metadata": {},
   "source": [
    "#### Although I hope to work in AI, ChatGPT has reassured me that a math degree is a useful way forward, and the other important areas stressed by the chatbot, including programming, statistics, and data analysis, remain a focus with various supplementary courses such as this one, books, and extracurricular internships and clubs."
   ]
  },
  {
   "cell_type": "markdown",
   "metadata": {},
   "source": [
    "## 9."
   ]
  },
  {
   "cell_type": "markdown",
   "metadata": {},
   "source": [
    "##### Yes"
   ]
  }
 ],
 "metadata": {
  "kernelspec": {
   "display_name": "Python 3",
   "language": "python",
   "name": "python3"
  },
  "language_info": {
   "codemirror_mode": {
    "name": "ipython",
    "version": 3
   },
   "file_extension": ".py",
   "mimetype": "text/x-python",
   "name": "python",
   "nbconvert_exporter": "python",
   "pygments_lexer": "ipython3",
   "version": "3.11.9"
  }
 },
 "nbformat": 4,
 "nbformat_minor": 2
}
